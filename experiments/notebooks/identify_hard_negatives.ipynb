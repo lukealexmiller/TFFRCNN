{
 "cells": [
  {
   "cell_type": "markdown",
   "metadata": {},
   "source": [
    "# Identify Hard Negatives\n",
    "\n",
    "\n",
    "Following the training schedule in [this paper](https://arxiv.org/pdf/1701.08289.pdf). After running 110k iterations of training on the WIDER trainval dataset, and having subsequently run testing on the same trainval dataset, we go through ground truth and test results to identify hard negatives"
   ]
  },
  {
   "cell_type": "code",
   "execution_count": 2,
   "metadata": {
    "collapsed": true
   },
   "outputs": [],
   "source": [
    "import os, sys\n",
    "import numpy as np\n",
    "import pandas as pd\n",
    "import cPickle\n",
    "import matplotlib.pyplot as plt\n",
    "% matplotlib inline\n",
    "import itertools"
   ]
  },
  {
   "cell_type": "code",
   "execution_count": 3,
   "metadata": {
    "collapsed": true
   },
   "outputs": [],
   "source": [
    "data_path = \"/root/faster_rcnn/data\"\n",
    "results_path = \"/root/faster_rcnn/output/faster_rcnn_voc_vgg/voc_2007_trainval\"\n",
    "results_file = os.path.join(results_path,'VGGnet_fast_rcnn_iter_%d','detections.pkl')"
   ]
  },
  {
   "cell_type": "code",
   "execution_count": 4,
   "metadata": {},
   "outputs": [],
   "source": [
    "# Define iteration for testing\n",
    "CLASSES = ('__background__',\n",
    "           'face')\n",
    "cls_idx = 1\n",
    "n_iter = 110000\n",
    "gt_roidb_dir = os.path.join(data_path,'cache','voc_2007_trainval_gt_roidb.pkl')\n",
    "res_roidb_dir = results_file%(n_iter)"
   ]
  },
  {
   "cell_type": "code",
   "execution_count": null,
   "metadata": {
    "collapsed": true
   },
   "outputs": [],
   "source": []
  },
  {
   "cell_type": "markdown",
   "metadata": {},
   "source": [
    "## Load ground truth and test result annotations"
   ]
  },
  {
   "cell_type": "code",
   "execution_count": 5,
   "metadata": {
    "collapsed": true
   },
   "outputs": [],
   "source": [
    "def read_from_pickle(path):\n",
    "    with open(path, 'rb') as f:\n",
    "        data = cPickle.load(f)\n",
    "    return data"
   ]
  },
  {
   "cell_type": "code",
   "execution_count": 6,
   "metadata": {},
   "outputs": [],
   "source": [
    "bbox_gt_full = read_from_pickle(gt_roidb_dir)\n",
    "bbox_gt = [bbox[\"boxes\"] for bbox in bbox_gt_full]\n",
    "bbox_res_full = read_from_pickle(res_roidb_dir)\n",
    "bbox_res = bbox_res_full[cls_idx]"
   ]
  },
  {
   "cell_type": "code",
   "execution_count": 14,
   "metadata": {},
   "outputs": [
    {
     "data": {
      "text/plain": [
       "16"
      ]
     },
     "execution_count": 14,
     "metadata": {},
     "output_type": "execute_result"
    }
   ],
   "source": [
    "len(bbox_gt[15178])"
   ]
  },
  {
   "cell_type": "code",
   "execution_count": 16,
   "metadata": {},
   "outputs": [
    {
     "data": {
      "text/plain": [
       "array([ 428.35220337,  128.3469696 ,  455.07260132,  161.63288879,\n",
       "          0.96131325], dtype=float32)"
      ]
     },
     "execution_count": 16,
     "metadata": {},
     "output_type": "execute_result"
    }
   ],
   "source": [
    "bbox_res_high = [bbox for bbox in bbox_res]"
   ]
  },
  {
   "cell_type": "code",
   "execution_count": 19,
   "metadata": {},
   "outputs": [
    {
     "data": {
      "text/plain": [
       "32"
      ]
     },
     "execution_count": 19,
     "metadata": {},
     "output_type": "execute_result"
    }
   ],
   "source": [
    "len(bbox_res[1])"
   ]
  },
  {
   "cell_type": "code",
   "execution_count": null,
   "metadata": {
    "collapsed": true
   },
   "outputs": [],
   "source": [
    "def compare_bbox(gt,res):\n",
    "    for f,b in itertools.izip(gt,res):\n",
    "        print(f,b)\n",
    "    "
   ]
  }
 ],
 "metadata": {
  "kernelspec": {
   "display_name": "Python 2",
   "language": "python",
   "name": "python2"
  },
  "language_info": {
   "codemirror_mode": {
    "name": "ipython",
    "version": 2
   },
   "file_extension": ".py",
   "mimetype": "text/x-python",
   "name": "python",
   "nbconvert_exporter": "python",
   "pygments_lexer": "ipython2",
   "version": "2.7.12"
  }
 },
 "nbformat": 4,
 "nbformat_minor": 2
}
