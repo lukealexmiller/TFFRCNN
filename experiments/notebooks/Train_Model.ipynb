{
 "cells": [
  {
   "cell_type": "markdown",
   "metadata": {},
   "source": [
    "# Train Faster-RCNN"
   ]
  },
  {
   "cell_type": "code",
   "execution_count": 1,
   "metadata": {},
   "outputs": [
    {
     "name": "stdout",
     "output_type": "stream",
     "text": [
      "kittivoc_train\n",
      "kittivoc_val\n",
      "kittivoc_trainval\n",
      "kittivoc_test\n",
      "kittivoc_train\n",
      "kittivoc_val\n",
      "kittivoc_trainval\n",
      "kittivoc_test\n",
      "kittivoc_train\n",
      "kittivoc_val\n",
      "kittivoc_trainval\n",
      "kittivoc_test\n",
      "nthu_71\n",
      "nthu_370\n"
     ]
    }
   ],
   "source": [
    "import pprint\n",
    "import numpy as np\n",
    "import pdb\n",
    "import sys\n",
    "import os.path\n",
    "\n",
    "this_dir = os.chdir(\"/root/faster_rcnn\")\n",
    "\n",
    "from lib.fast_rcnn.train import get_training_roidb, train_net\n",
    "from lib.fast_rcnn.config import cfg, cfg_from_file, cfg_from_list, get_output_dir, get_log_dir\n",
    "from lib.datasets.factory import get_imdb\n",
    "from lib.networks.factory import get_network\n",
    "from lib.fast_rcnn.config import cfg"
   ]
  },
  {
   "cell_type": "markdown",
   "metadata": {},
   "source": [
    "## Set up Training Schedule"
   ]
  },
  {
   "cell_type": "markdown",
   "metadata": {},
   "source": [
    "### Specify configuration:"
   ]
  },
  {
   "cell_type": "code",
   "execution_count": null,
   "metadata": {
    "collapsed": true
   },
   "outputs": [],
   "source": [
    "cfg_file = \"experiments/cfgs/faster_rcnn_end2end_wider.yml\"\n",
    "gpu_id = 0\n",
    "network_name = \"VGGnet_train\"\n",
    "pretrained_model = \"data/pretrain_model/VGG_imagenet.npy\"\n",
    "imdb_name = \"voc_2007_trainval\"\n",
    "randomize = True\n",
    "restore = False\n",
    "\n",
    "iters = 110000"
   ]
  },
  {
   "cell_type": "markdown",
   "metadata": {},
   "source": [
    "### Load configuration:"
   ]
  },
  {
   "cell_type": "code",
   "execution_count": null,
   "metadata": {},
   "outputs": [
    {
     "name": "stdout",
     "output_type": "stream",
     "text": [
      "Using config:\n",
      "{'ANCHOR_SCALES': [4, 8, 16, 32],\n",
      " 'DATA_DIR': '/root/faster_rcnn/data',\n",
      " 'DEDUP_BOXES': 0.0625,\n",
      " 'EPS': 1e-14,\n",
      " 'EXP_DIR': 'faster_rcnn_voc_vgg',\n",
      " 'GPU_ID': 0,\n",
      " 'IS_EXTRAPOLATING': True,\n",
      " 'IS_MULTISCALE': False,\n",
      " 'IS_RPN': True,\n",
      " 'LOG_DIR': 'faster_rcnn_voc_vgg',\n",
      " 'MATLAB': 'matlab',\n",
      " 'MODELS_DIR': '/root/faster_rcnn/models/pascal_voc',\n",
      " 'NCLASSES': 2,\n",
      " 'NET_NAME': 'VGGnet',\n",
      " 'PIXEL_MEANS': array([[[ 102.9801,  115.9465,  122.7717]]]),\n",
      " 'REGION_PROPOSAL': 'RPN',\n",
      " 'RNG_SEED': 3,\n",
      " 'ROOT_DIR': '/root/faster_rcnn',\n",
      " 'SUBCLS_NAME': 'voxel_exemplars',\n",
      " 'TEST': {'BBOX_REG': True,\n",
      "          'HAS_RPN': True,\n",
      "          'MAX_SIZE': 1000,\n",
      "          'NMS': 0.3,\n",
      "          'PROPOSAL_METHOD': 'selective_search',\n",
      "          'RPN_MIN_SIZE': 16,\n",
      "          'RPN_NMS_THRESH': 0.7,\n",
      "          'RPN_POST_NMS_TOP_N': 300,\n",
      "          'RPN_PRE_NMS_TOP_N': 6000,\n",
      "          'SCALES': [600],\n",
      "          'SVM': False},\n",
      " 'TRAIN': {'ASPECTS': [1],\n",
      "           'ASPECT_GROUPING': True,\n",
      "           'BATCH_SIZE': 300,\n",
      "           'BBOX_INSIDE_WEIGHTS': [1, 1, 1, 1],\n",
      "           'BBOX_NORMALIZE_MEANS': [0.0, 0.0, 0.0, 0.0],\n",
      "           'BBOX_NORMALIZE_STDS': [0.1, 0.1, 0.2, 0.2],\n",
      "           'BBOX_NORMALIZE_TARGETS': True,\n",
      "           'BBOX_NORMALIZE_TARGETS_PRECOMPUTED': True,\n",
      "           'BBOX_REG': True,\n",
      "           'BBOX_THRESH': 0.5,\n",
      "           'BG_THRESH_HI': 0.5,\n",
      "           'BG_THRESH_LO': 0.0,\n",
      "           'DISPLAY': 10,\n",
      "           'DONTCARE_AREA_INTERSECTION_HI': 0.5,\n",
      "           'FG_FRACTION': 0.3,\n",
      "           'FG_THRESH': 0.5,\n",
      "           'GAMMA': 0.1,\n",
      "           'HAS_RPN': True,\n",
      "           'IMS_PER_BATCH': 1,\n",
      "           'KERNEL_SIZE': 5,\n",
      "           'LEARNING_RATE': 0.0001,\n",
      "           'LOG_IMAGE_ITERS': 100,\n",
      "           'MAX_SIZE': 1000,\n",
      "           'MOMENTUM': 0.9,\n",
      "           'OHEM': False,\n",
      "           'PRECLUDE_HARD_SAMPLES': True,\n",
      "           'PROPOSAL_METHOD': 'gt',\n",
      "           'RANDOM_DOWNSAMPLE': False,\n",
      "           'RPN_BATCHSIZE': 256,\n",
      "           'RPN_BBOX_INSIDE_WEIGHTS': [1, 1, 1, 1],\n",
      "           'RPN_CLOBBER_POSITIVES': False,\n",
      "           'RPN_FG_FRACTION': 0.5,\n",
      "           'RPN_MIN_SIZE': 16,\n",
      "           'RPN_NEGATIVE_OVERLAP': 0.3,\n",
      "           'RPN_NMS_THRESH': 0.7,\n",
      "           'RPN_POSITIVE_OVERLAP': 0.7,\n",
      "           'RPN_POSITIVE_WEIGHT': -1.0,\n",
      "           'RPN_POST_NMS_TOP_N': 2000,\n",
      "           'RPN_PRE_NMS_TOP_N': 12000,\n",
      "           'SCALES': [600],\n",
      "           'SCALES_BASE': [0.25, 0.5, 1.0, 2.0, 3.0],\n",
      "           'SNAPSHOT_INFIX': '',\n",
      "           'SNAPSHOT_ITERS': 10000,\n",
      "           'SNAPSHOT_PREFIX': 'VGGnet_fast_rcnn',\n",
      "           'SOLVER': 'Momentum',\n",
      "           'STEPSIZE': 200000,\n",
      "           'USE_FLIPPED': True,\n",
      "           'USE_PREFETCH': False,\n",
      "           'WEIGHT_DECAY': 0.0005},\n",
      " 'USE_GPU_NMS': True}\n",
      "<bound method pascal_voc.default_roidb of <lib.datasets.pascal_voc.pascal_voc object at 0x7f721b38c9d0>>\n",
      "Loaded dataset `voc_2007_trainval` for training\n",
      "Appending horizontally-flipped training examples...\n",
      "voc_2007_trainval gt roidb loaded from /root/faster_rcnn/data/cache/voc_2007_trainval_gt_roidb.pkl\n",
      "done\n",
      "Preparing training data...\n",
      "done\n",
      "Output will be saved to `/root/faster_rcnn/output/faster_rcnn_voc_vgg/voc_2007_trainval`\n",
      "Logs will be saved to `/root/faster_rcnn/logs/faster_rcnn_voc_vgg/voc_2007_trainval/2017-05-19-16-34-26`\n",
      "/gpu:0\n",
      "Tensor(\"data:0\", shape=(?, ?, ?, 3), dtype=float32)\n",
      "Tensor(\"conv5_3/Relu:0\", shape=(?, ?, ?, 512), dtype=float32)\n",
      "Tensor(\"rpn_conv/3x3/Relu:0\", shape=(?, ?, ?, 512), dtype=float32)\n",
      "Tensor(\"rpn_conv/3x3/Relu:0\", shape=(?, ?, ?, 512), dtype=float32)\n",
      "Tensor(\"rpn_cls_score/BiasAdd:0\", shape=(?, ?, ?, 24), dtype=float32)\n",
      "Tensor(\"gt_boxes:0\", shape=(?, 5), dtype=float32)\n",
      "Tensor(\"gt_ishard:0\", shape=(?,), dtype=int32)\n",
      "Tensor(\"dontcare_areas:0\", shape=(?, 4), dtype=float32)\n",
      "Tensor(\"im_info:0\", shape=(?, 3), dtype=float32)\n",
      "Tensor(\"rpn_cls_score/BiasAdd:0\", shape=(?, ?, ?, 24), dtype=float32)\n",
      "Tensor(\"rpn_cls_prob:0\", shape=(?, ?, ?, ?), dtype=float32)\n",
      "Tensor(\"Reshape_2:0\", shape=(?, ?, ?, 24), dtype=float32)\n",
      "Tensor(\"rpn_bbox_pred/BiasAdd:0\", shape=(?, ?, ?, 48), dtype=float32)\n",
      "Tensor(\"im_info:0\", shape=(?, 3), dtype=float32)\n",
      "Tensor(\"rpn_rois:0\", shape=(?, 5), dtype=float32)\n",
      "Tensor(\"gt_boxes:0\", shape=(?, 5), dtype=float32)\n",
      "Tensor(\"gt_ishard:0\", shape=(?,), dtype=int32)\n",
      "Tensor(\"dontcare_areas:0\", shape=(?, 4), dtype=float32)\n",
      "Tensor(\"conv5_3/Relu:0\", shape=(?, ?, ?, 512), dtype=float32)\n",
      "Tensor(\"roi-data/rois:0\", shape=(?, 5), dtype=float32)\n",
      "[<tf.Tensor 'conv5_3/Relu:0' shape=(?, ?, ?, 512) dtype=float32>, <tf.Tensor 'roi-data/rois:0' shape=(?, 5) dtype=float32>]\n",
      "Tensor(\"drop7/mul:0\", shape=(?, 4096), dtype=float32)\n",
      "Use network `VGGnet_train` in training\n",
      "Computing bounding-box regression targets...\n",
      "bbox target means:\n",
      "[[ 0.  0.  0.  0.]\n",
      " [ 0.  0.  0.  0.]]\n",
      "[ 0.  0.  0.  0.]\n",
      "bbox target stdevs:\n",
      "[[ 0.1  0.1  0.2  0.2]\n",
      " [ 0.1  0.1  0.2  0.2]]\n",
      "[ 0.1  0.1  0.2  0.2]\n",
      "Normalizing targets\n",
      "done\n",
      "Solving...\n"
     ]
    },
    {
     "name": "stderr",
     "output_type": "stream",
     "text": [
      "/usr/local/lib/python2.7/dist-packages/tensorflow/python/ops/gradients_impl.py:91: UserWarning: Converting sparse IndexedSlices to a dense Tensor of unknown shape. This may consume a large amount of memory.\n",
      "  \"Converting sparse IndexedSlices to a dense Tensor of unknown shape. \"\n"
     ]
    },
    {
     "name": "stdout",
     "output_type": "stream",
     "text": [
      "Loading pretrained model weights from data/pretrain_model/VGG_imagenet.npy\n",
      "assign pretrain model weights to conv5_1\n",
      "assign pretrain model biases to conv5_1\n"
     ]
    }
   ],
   "source": [
    "cfg_from_file(cfg_file)\n",
    "\n",
    "print('Using config:')\n",
    "pprint.pprint(cfg)\n",
    "\n",
    "\n",
    "if randomize:\n",
    "    # fix the random seeds (numpy and caffe) for reproducibility\n",
    "    np.random.seed(cfg.RNG_SEED)\n",
    "    \n",
    "imdb = get_imdb(imdb_name)\n",
    "print 'Loaded dataset `{:s}` for training'.format(imdb.name)\n",
    "roidb = get_training_roidb(imdb)\n",
    "\n",
    "# Define output directory\n",
    "output_dir = get_output_dir(imdb, None)\n",
    "# Define log directory\n",
    "log_dir = get_log_dir(imdb)\n",
    "\n",
    "print 'Output will be saved to `{:s}`'.format(output_dir)\n",
    "print 'Logs will be saved to `{:s}`'.format(log_dir)\n",
    "\n",
    "device_name = '/gpu:{:d}'.format(gpu_id)\n",
    "print device_name\n",
    "\n",
    "network = get_network(network_name)\n",
    "print 'Use network `{:s}` in training'.format(network_name)\n",
    "\n",
    "train_net(network, imdb, roidb,\n",
    "          output_dir=output_dir,\n",
    "          log_dir=log_dir,\n",
    "          pretrained_model=pretrained_model,\n",
    "          max_iters=iters,\n",
    "          restore=bool(int(restore)))"
   ]
  },
  {
   "cell_type": "code",
   "execution_count": null,
   "metadata": {
    "collapsed": true
   },
   "outputs": [],
   "source": []
  },
  {
   "cell_type": "code",
   "execution_count": null,
   "metadata": {
    "collapsed": true
   },
   "outputs": [],
   "source": []
  }
 ],
 "metadata": {
  "kernelspec": {
   "display_name": "Python 2",
   "language": "python",
   "name": "python2"
  },
  "language_info": {
   "codemirror_mode": {
    "name": "ipython",
    "version": 2
   },
   "file_extension": ".py",
   "mimetype": "text/x-python",
   "name": "python",
   "nbconvert_exporter": "python",
   "pygments_lexer": "ipython2",
   "version": "2.7.12"
  }
 },
 "nbformat": 4,
 "nbformat_minor": 2
}
