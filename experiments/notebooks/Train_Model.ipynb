{
 "cells": [
  {
   "cell_type": "markdown",
   "metadata": {},
   "source": [
    "# Train Faster-RCNN"
   ]
  },
  {
   "cell_type": "code",
   "execution_count": 1,
   "metadata": {},
   "outputs": [
    {
     "name": "stdout",
     "output_type": "stream",
     "text": [
      "kittivoc_train\n",
      "kittivoc_val\n",
      "kittivoc_trainval\n",
      "kittivoc_test\n",
      "kittivoc_train\n",
      "kittivoc_val\n",
      "kittivoc_trainval\n",
      "kittivoc_test\n",
      "kittivoc_train\n",
      "kittivoc_val\n",
      "kittivoc_trainval\n",
      "kittivoc_test\n",
      "nthu_71\n",
      "nthu_370\n"
     ]
    }
   ],
   "source": [
    "import pprint\n",
    "import numpy as np\n",
    "import pdb\n",
    "import sys\n",
    "import os.path\n",
    "import glob\n",
    "import shutil\n",
    "import tensorflow as tf\n",
    "\n",
    "this_dir = os.chdir(\"/root/faster_rcnn\")\n",
    "\n",
    "from lib.fast_rcnn.train import get_training_roidb, train_net\n",
    "from lib.fast_rcnn.config import cfg, cfg_from_file, cfg_from_list, get_output_dir, get_log_dir\n",
    "from lib.datasets.factory import get_imdb\n",
    "from lib.networks.factory import get_network\n",
    "from lib.fast_rcnn.config import cfg"
   ]
  },
  {
   "cell_type": "markdown",
   "metadata": {},
   "source": [
    "## Set up Training Schedule"
   ]
  },
  {
   "cell_type": "markdown",
   "metadata": {},
   "source": [
    "### Specify and load configuration:"
   ]
  },
  {
   "cell_type": "code",
   "execution_count": 2,
   "metadata": {},
   "outputs": [
    {
     "name": "stdout",
     "output_type": "stream",
     "text": [
      "Using config:\n",
      "{'ANCHOR_SCALES': [4, 8, 16, 32],\n",
      " 'DATA_DIR': '/root/faster_rcnn/data',\n",
      " 'DEDUP_BOXES': 0.0625,\n",
      " 'EPS': 1e-14,\n",
      " 'EXP_DIR': 'faster_rcnn_voc_vgg',\n",
      " 'GPU_ID': 0,\n",
      " 'IS_EXTRAPOLATING': True,\n",
      " 'IS_MULTISCALE': False,\n",
      " 'IS_RPN': True,\n",
      " 'LOG_DIR': 'faster_rcnn_voc_vgg',\n",
      " 'MATLAB': 'matlab',\n",
      " 'MODELS_DIR': '/root/faster_rcnn/models/pascal_voc',\n",
      " 'NCLASSES': 2,\n",
      " 'NET_NAME': 'VGGnet',\n",
      " 'PIXEL_MEANS': array([[[ 102.9801,  115.9465,  122.7717]]]),\n",
      " 'REGION_PROPOSAL': 'RPN',\n",
      " 'RNG_SEED': 3,\n",
      " 'ROOT_DIR': '/root/faster_rcnn',\n",
      " 'SUBCLS_NAME': 'voxel_exemplars',\n",
      " 'TEST': {'BBOX_REG': True,\n",
      "          'HAS_RPN': True,\n",
      "          'MAX_SIZE': 1000,\n",
      "          'NMS': 0.3,\n",
      "          'PROPOSAL_METHOD': 'selective_search',\n",
      "          'RPN_MIN_SIZE': 16,\n",
      "          'RPN_NMS_THRESH': 0.7,\n",
      "          'RPN_POST_NMS_TOP_N': 300,\n",
      "          'RPN_PRE_NMS_TOP_N': 6000,\n",
      "          'SCALES': [600],\n",
      "          'SVM': False},\n",
      " 'TRAIN': {'ASPECTS': [1],\n",
      "           'ASPECT_GROUPING': True,\n",
      "           'BATCH_SIZE': 300,\n",
      "           'BBOX_INSIDE_WEIGHTS': [1, 1, 1, 1],\n",
      "           'BBOX_NORMALIZE_MEANS': [0.0, 0.0, 0.0, 0.0],\n",
      "           'BBOX_NORMALIZE_STDS': [0.1, 0.1, 0.2, 0.2],\n",
      "           'BBOX_NORMALIZE_TARGETS': True,\n",
      "           'BBOX_NORMALIZE_TARGETS_PRECOMPUTED': True,\n",
      "           'BBOX_REG': True,\n",
      "           'BBOX_THRESH': 0.5,\n",
      "           'BG_THRESH_HI': 0.5,\n",
      "           'BG_THRESH_LO': 0.0,\n",
      "           'DISPLAY': 10,\n",
      "           'DONTCARE_AREA_INTERSECTION_HI': 0.5,\n",
      "           'FG_FRACTION': 0.3,\n",
      "           'FG_THRESH': 0.5,\n",
      "           'GAMMA': 0.1,\n",
      "           'HAS_RPN': True,\n",
      "           'IMS_PER_BATCH': 1,\n",
      "           'KERNEL_SIZE': 5,\n",
      "           'LEARNING_RATE': 0.001,\n",
      "           'LOG_IMAGE_ITERS': 100,\n",
      "           'MAX_SIZE': 1000,\n",
      "           'MOMENTUM': 0.9,\n",
      "           'OHEM': False,\n",
      "           'PRECLUDE_HARD_SAMPLES': True,\n",
      "           'PROPOSAL_METHOD': 'gt',\n",
      "           'RANDOM_DOWNSAMPLE': False,\n",
      "           'RPN_BATCHSIZE': 256,\n",
      "           'RPN_BBOX_INSIDE_WEIGHTS': [1, 1, 1, 1],\n",
      "           'RPN_CLOBBER_POSITIVES': False,\n",
      "           'RPN_FG_FRACTION': 0.5,\n",
      "           'RPN_MIN_SIZE': 16,\n",
      "           'RPN_NEGATIVE_OVERLAP': 0.3,\n",
      "           'RPN_NMS_THRESH': 0.7,\n",
      "           'RPN_POSITIVE_OVERLAP': 0.7,\n",
      "           'RPN_POSITIVE_WEIGHT': -1.0,\n",
      "           'RPN_POST_NMS_TOP_N': 2000,\n",
      "           'RPN_PRE_NMS_TOP_N': 12000,\n",
      "           'SCALES': [600],\n",
      "           'SCALES_BASE': [0.25, 0.5, 1.0, 2.0, 3.0],\n",
      "           'SNAPSHOT_INFIX': '',\n",
      "           'SNAPSHOT_ITERS': 10000,\n",
      "           'SNAPSHOT_PREFIX': 'VGGnet_fast_rcnn',\n",
      "           'SOLVER': 'Momentum',\n",
      "           'STEPSIZE': 3000000,\n",
      "           'USE_FLIPPED': True,\n",
      "           'USE_PREFETCH': False,\n",
      "           'WEIGHT_DECAY': 0.0005},\n",
      " 'USE_GPU_NMS': True}\n"
     ]
    }
   ],
   "source": [
    "cfg_file = \"experiments/cfgs/faster_rcnn_end2end_fddb.yml\"\n",
    "network_name = \"VGGnet_FeatConcat_train\"\n",
    "pretrained_model = \"data/pretrain_model/VGG_imagenet.npy\"\n",
    "imdb_name = \"voc_2007_trainval\"\n",
    "randomize = True\n",
    "restore = False\n",
    "ITERS = 10\n",
    "\n",
    "cfg_from_file(cfg_file)\n",
    "\n",
    "# User-defined additional configuration.\n",
    "cfg.GPU_ID = 0\n",
    "cfg.ANCHOR_SCALES = [4,8,16,32]\n",
    "\n",
    "print('Using config:')\n",
    "pprint.pprint(cfg)"
   ]
  },
  {
   "cell_type": "code",
   "execution_count": 3,
   "metadata": {
    "collapsed": true
   },
   "outputs": [],
   "source": [
    "# Specify number of folds to train\n",
    "N_FOLDS = 1\n",
    "# Identify experiment number\n",
    "N_ID = 3"
   ]
  },
  {
   "cell_type": "markdown",
   "metadata": {},
   "source": [
    "### Train Model:"
   ]
  },
  {
   "cell_type": "code",
   "execution_count": 4,
   "metadata": {},
   "outputs": [
    {
     "name": "stdout",
     "output_type": "stream",
     "text": [
      "<bound method pascal_voc.default_roidb of <lib.datasets.pascal_voc.pascal_voc object at 0x7fc570949110>>\n",
      "Loaded dataset `voc_2007_trainval` for training\n",
      "Appending horizontally-flipped training examples...\n",
      "voc_2007_trainval gt roidb loaded from /root/faster_rcnn/data/cache/voc_2007_trainval_gt_roidb.pkl\n",
      "done\n",
      "Preparing training data...\n",
      "done\n",
      "Output will be saved to `/root/faster_rcnn/output/faster_rcnn_voc_vgg/voc_2007_trainval/ID_3`\n",
      "Logs will be saved to `/root/faster_rcnn/logs/faster_rcnn_voc_vgg/voc_2007_trainval/2017-06-15-11-49-59`\n"
     ]
    },
    {
     "ename": "KeyError",
     "evalue": "'Unknown dataset: VGGnet_FeatConcat_train'",
     "output_type": "error",
     "traceback": [
      "\u001b[0;31m---------------------------------------------------------------------------\u001b[0m",
      "\u001b[0;31mKeyError\u001b[0m                                  Traceback (most recent call last)",
      "\u001b[0;32m<ipython-input-4-9e3b60e4e74d>\u001b[0m in \u001b[0;36m<module>\u001b[0;34m()\u001b[0m\n\u001b[1;32m     24\u001b[0m \u001b[0;34m\u001b[0m\u001b[0m\n\u001b[1;32m     25\u001b[0m     \u001b[0;31m# Define graph\u001b[0m\u001b[0;34m\u001b[0m\u001b[0;34m\u001b[0m\u001b[0m\n\u001b[0;32m---> 26\u001b[0;31m     \u001b[0mnetwork\u001b[0m \u001b[0;34m=\u001b[0m \u001b[0mget_network\u001b[0m\u001b[0;34m(\u001b[0m\u001b[0mnetwork_name\u001b[0m\u001b[0;34m)\u001b[0m\u001b[0;34m\u001b[0m\u001b[0m\n\u001b[0m\u001b[1;32m     27\u001b[0m     \u001b[0;32mprint\u001b[0m\u001b[0;34m(\u001b[0m\u001b[0;34m'Use network `{:s}` in training'\u001b[0m\u001b[0;34m.\u001b[0m\u001b[0mformat\u001b[0m\u001b[0;34m(\u001b[0m\u001b[0mnetwork_name\u001b[0m\u001b[0;34m)\u001b[0m\u001b[0;34m)\u001b[0m\u001b[0;34m\u001b[0m\u001b[0m\n\u001b[1;32m     28\u001b[0m \u001b[0;34m\u001b[0m\u001b[0m\n",
      "\u001b[0;32m/root/faster_rcnn/lib/networks/factory.pyc\u001b[0m in \u001b[0;36mget_network\u001b[0;34m(name)\u001b[0m\n\u001b[1;32m     31\u001b[0m             \u001b[0;32mreturn\u001b[0m \u001b[0mVGGnet_testold\u001b[0m\u001b[0;34m(\u001b[0m\u001b[0;34m)\u001b[0m\u001b[0;34m\u001b[0m\u001b[0m\n\u001b[1;32m     32\u001b[0m         \u001b[0;32melse\u001b[0m\u001b[0;34m:\u001b[0m\u001b[0;34m\u001b[0m\u001b[0m\n\u001b[0;32m---> 33\u001b[0;31m            \u001b[0;32mraise\u001b[0m \u001b[0mKeyError\u001b[0m\u001b[0;34m(\u001b[0m\u001b[0;34m'Unknown dataset: {}'\u001b[0m\u001b[0;34m.\u001b[0m\u001b[0mformat\u001b[0m\u001b[0;34m(\u001b[0m\u001b[0mname\u001b[0m\u001b[0;34m)\u001b[0m\u001b[0;34m)\u001b[0m\u001b[0;34m\u001b[0m\u001b[0m\n\u001b[0m\u001b[1;32m     34\u001b[0m     \u001b[0;32melif\u001b[0m \u001b[0mname\u001b[0m\u001b[0;34m.\u001b[0m\u001b[0msplit\u001b[0m\u001b[0;34m(\u001b[0m\u001b[0;34m'_'\u001b[0m\u001b[0;34m)\u001b[0m\u001b[0;34m[\u001b[0m\u001b[0;36m0\u001b[0m\u001b[0;34m]\u001b[0m \u001b[0;34m==\u001b[0m \u001b[0;34m'Resnet50'\u001b[0m\u001b[0;34m:\u001b[0m\u001b[0;34m\u001b[0m\u001b[0m\n\u001b[1;32m     35\u001b[0m         \u001b[0;32mif\u001b[0m \u001b[0mname\u001b[0m\u001b[0;34m.\u001b[0m\u001b[0msplit\u001b[0m\u001b[0;34m(\u001b[0m\u001b[0;34m'_'\u001b[0m\u001b[0;34m)\u001b[0m\u001b[0;34m[\u001b[0m\u001b[0;36m1\u001b[0m\u001b[0;34m]\u001b[0m \u001b[0;34m==\u001b[0m \u001b[0;34m'test'\u001b[0m\u001b[0;34m:\u001b[0m\u001b[0;34m\u001b[0m\u001b[0m\n",
      "\u001b[0;31mKeyError\u001b[0m: 'Unknown dataset: VGGnet_FeatConcat_train'"
     ]
    }
   ],
   "source": [
    "if randomize:\n",
    "    # Fix the random seeds (numpy and caffe) for reproducibility\n",
    "    np.random.seed(cfg.RNG_SEED)\n",
    "    \n",
    "for fold in range(1,N_FOLDS+1):\n",
    "\n",
    "    imdb = get_imdb(imdb_name)\n",
    "    print('Loaded dataset `{:s}` for training'.format(imdb.name))\n",
    "    roidb = get_training_roidb(imdb)\n",
    "    \n",
    "    # Define output directory\n",
    "    output_dir = get_output_dir(imdb, None)\n",
    "    output_dir = os.path.join(output_dir,\"ID_{0:d}\".format(N_ID))\n",
    "    print('Output will be saved to `{:s}`'.format(output_dir))\n",
    "    \n",
    "    # Define log directory\n",
    "    log_dir = get_log_dir(imdb)\n",
    "    print('Logs will be saved to `{:s}`'.format(log_dir))\n",
    "    \n",
    "    \"\"\"\n",
    "    # Reset checkpoint file\n",
    "    shutil.copy(os.path.join(output_dir,\"checkpoint.orig\"),os.path.join(output_dir,\"checkpoint\"))\n",
    "    \"\"\"\n",
    "    \n",
    "    # Define graph\n",
    "    network = get_network(network_name)\n",
    "    print('Use network `{:s}` in training'.format(network_name))\n",
    "\n",
    "    train_net(network, imdb, roidb,\n",
    "              output_dir=output_dir,\n",
    "              log_dir=log_dir,\n",
    "              pretrained_model=pretrained_model,\n",
    "              max_iters=ITERS,\n",
    "              restore=bool(int(restore)))\n",
    "    \n",
    "    # Graph must be reset before we restart training for the next fold.\n",
    "    tf.reset_default_graph()\n",
    "    \n",
    "    # Define permanent save directory.\n",
    "    save_dir = os.path.join(output_dir,\"Main_{0:d}\".format(fold))\n",
    "    if os.path.exists(save_dir):\n",
    "        shutil.rmtree(save_dir)\n",
    "    os.mkdir(save_dir)\n",
    "    \n",
    "    # Move output to save directory to prevent overwriting.\n",
    "    \"\"\"\n",
    "    for ckpt_path in glob.glob(str(os.path.join(output_dir,'*{0:d}.ckpt.*'.format(ITERS)))):\n",
    "            ckpt_file = os.path.basename(ckpt_path)\n",
    "            shutil.move(ckpt_path,os.path.join(save_dir,ckpt_file))\n",
    "            print('Moved checkpoint file {0:s} to {1:s}'.format(ckpt_file,save_dir))\n",
    "    \"\"\""
   ]
  }
 ],
 "metadata": {
  "kernelspec": {
   "display_name": "Python 2",
   "language": "python",
   "name": "python2"
  },
  "language_info": {
   "codemirror_mode": {
    "name": "ipython",
    "version": 2
   },
   "file_extension": ".py",
   "mimetype": "text/x-python",
   "name": "python",
   "nbconvert_exporter": "python",
   "pygments_lexer": "ipython2",
   "version": "2.7.12"
  }
 },
 "nbformat": 4,
 "nbformat_minor": 2
}
